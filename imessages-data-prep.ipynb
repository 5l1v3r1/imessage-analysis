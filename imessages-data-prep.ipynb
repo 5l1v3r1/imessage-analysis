{
 "cells": [
  {
   "cell_type": "code",
   "execution_count": 2,
   "metadata": {},
   "outputs": [],
   "source": [
    "import sqlite3\n",
    "import pandas as pd\n",
    "from datetime import datetime\n",
    "import matplotlib.pyplot as plt\n",
    "plt.style.use('fivethirtyeight')\n",
    "%matplotlib inline"
   ]
  },
  {
   "cell_type": "code",
   "execution_count": 3,
   "metadata": {
    "scrolled": true
   },
   "outputs": [
    {
     "name": "stdout",
     "output_type": "stream",
     "text": [
      "('_SqliteDatabaseProperties',)\n",
      "('message',)\n",
      "('sqlite_sequence',)\n",
      "('chat',)\n",
      "('attachment',)\n",
      "('handle',)\n",
      "('message_attachment_join',)\n",
      "('chat_handle_join',)\n",
      "('chat_message_join',)\n"
     ]
    }
   ],
   "source": [
    "conn = sqlite3.connect('/Users/yortos/Library/Messages/chat.db')\n",
    "\n",
    "cur = conn.cursor()\n",
    "cur.execute(\" select name from sqlite_master where type = 'table' \")\n",
    "\n",
    "for name in cur.fetchall():\n",
    "    print(name)"
   ]
  },
  {
   "cell_type": "code",
   "execution_count": 4,
   "metadata": {
    "scrolled": true
   },
   "outputs": [],
   "source": [
    "cur = conn.cursor()\n",
    "cur.execute(\" select * from message\")\n",
    "\n",
    "messages = pd.read_sql_query(\"select *, date + 978307200 - 5*60*60  as date_est from message\", conn)\n",
    "chats = pd.read_sql_query(\"select * from chat\", conn)\n",
    "handles = pd.read_sql_query(\"select * from handle\", conn)\n",
    "chat_handle_joins = pd.read_sql_query(\"select * from chat_handle_join\", conn)\n",
    "chat_message_joins = pd.read_sql_query(\"select * from chat_message_join\", conn)\n",
    "\n",
    "messages['timestamp'] = messages['date_est'].apply(lambda x: pd.Timestamp(datetime.utcfromtimestamp(x).strftime('%Y-%m-%d %H:%M:%S')))\n",
    "messages['date'] = messages['timestamp'].apply(lambda x: x.date())\n",
    "messages['month'] = messages['timestamp'].apply(lambda x: int(x.month))\n",
    "messages['year'] = messages['timestamp'].apply(lambda x: int(x.year))\n",
    "\n",
    "\n",
    "\n",
    "#messages.rename(columns={'handle_id' : 'sender_id'}, inplace = True)\n",
    "messages.rename(columns={'ROWID' : 'message_id'}, inplace = True)\n",
    "\n",
    "handles.rename(columns={'id' : 'phone_number', 'ROWID': 'handle_id'}, inplace = True)\n"
   ]
  },
  {
   "cell_type": "code",
   "execution_count": 40,
   "metadata": {},
   "outputs": [
    {
     "name": "stdout",
     "output_type": "stream",
     "text": [
      "94943\n"
     ]
    }
   ],
   "source": [
    "temp = pd.merge(messages[['text', 'handle_id', 'date', 'timestamp', 'month','year','is_sent', 'message_id']],  handles[['handle_id', 'phone_number']], on ='handle_id', how='left')\n",
    "\n",
    "df_messages = pd.merge(temp, chat_message_joins, on = 'message_id', how='left')\n",
    "\n",
    "\n",
    "print(len(df_messages))\n",
    "#df_messages.head()\n"
   ]
  },
  {
   "cell_type": "markdown",
   "metadata": {},
   "source": [
    "## data exploration"
   ]
  },
  {
   "cell_type": "code",
   "execution_count": 7,
   "metadata": {},
   "outputs": [
    {
     "data": {
      "text/plain": [
       "(datetime.date(2014, 12, 2), datetime.date(2019, 3, 4))"
      ]
     },
     "execution_count": 7,
     "metadata": {},
     "output_type": "execute_result"
    }
   ],
   "source": [
    "df_messages['date'].min(), df_messages['date'].max()"
   ]
  },
  {
   "cell_type": "code",
   "execution_count": 33,
   "metadata": {},
   "outputs": [
    {
     "data": {
      "text/plain": [
       "(array([ 735599.,  735780.,  735964.,  736146.,  736330.,  736511.,\n",
       "         736695.,  736876.,  737060.]), <a list of 9 Text xticklabel objects>)"
      ]
     },
     "execution_count": 33,
     "metadata": {},
     "output_type": "execute_result"
    },
    {
     "data": {
      "image/png": "[encoded data removed]",
      "text/plain": [
       "<Figure size 432x288 with 1 Axes>"
      ]
     },
     "metadata": {},
     "output_type": "display_data"
    }
   ],
   "source": [
    "plt.plot(df_messages.groupby('date').size())\n",
    "#plt.xlim((pd.Timestamp('2017-08-01'), pd.Timestamp('2018-07-01')))\n",
    "plt.xticks(rotation='45')"
   ]
  },
  {
   "cell_type": "code",
   "execution_count": 35,
   "metadata": {},
   "outputs": [
    {
     "data": {
      "text/plain": [
       "is_sent\n",
       "0    53993\n",
       "1    40950\n",
       "dtype: int64"
      ]
     },
     "execution_count": 35,
     "metadata": {},
     "output_type": "execute_result"
    }
   ],
   "source": [
    "df_messages.groupby('is_sent').size()"
   ]
  },
  {
   "cell_type": "code",
   "execution_count": 36,
   "metadata": {},
   "outputs": [
    {
     "data": {
      "text/plain": [
       "month\n",
       "1     11565\n",
       "2      8353\n",
       "3      7110\n",
       "4      5264\n",
       "5      3941\n",
       "6      8609\n",
       "7      9519\n",
       "8      6812\n",
       "9      6910\n",
       "10     4750\n",
       "11     9404\n",
       "12    12706\n",
       "dtype: int64"
      ]
     },
     "execution_count": 36,
     "metadata": {},
     "output_type": "execute_result"
    }
   ],
   "source": [
    "df_messages.groupby('month').size()"
   ]
  },
  {
   "cell_type": "code",
   "execution_count": 39,
   "metadata": {},
   "outputs": [
    {
     "data": {
      "text/plain": [
       "month\n",
       "1     0.442974\n",
       "2     0.424279\n",
       "3     0.431646\n",
       "4     0.405205\n",
       "5     0.414362\n",
       "6     0.431874\n",
       "7     0.423049\n",
       "8     0.433647\n",
       "9     0.436179\n",
       "10    0.426947\n",
       "11    0.423969\n",
       "12    0.450181\n",
       "Name: is_sent, dtype: float64"
      ]
     },
     "execution_count": 39,
     "metadata": {},
     "output_type": "execute_result"
    }
   ],
   "source": [
    "df_messages.groupby('month')['is_sent'].mean()"
   ]
  }
 ],
 "metadata": {
  "kernelspec": {
   "display_name": "Python 3",
   "language": "python",
   "name": "python3"
  },
  "language_info": {
   "codemirror_mode": {
    "name": "ipython",
    "version": 3
   },
   "file_extension": ".py",
   "mimetype": "text/x-python",
   "name": "python",
   "nbconvert_exporter": "python",
   "pygments_lexer": "ipython3",
   "version": "3.6.5"
  }
 },
 "nbformat": 4,
 "nbformat_minor": 2
}
